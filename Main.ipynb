{
 "cells": [
  {
   "cell_type": "markdown",
   "id": "f443acfa",
   "metadata": {},
   "source": [
    "# VIDEO CAPTURING PROJECT"
   ]
  },
  {
   "cell_type": "code",
   "execution_count": 1,
   "id": "2086123c",
   "metadata": {},
   "outputs": [],
   "source": [
    "import cv2,time"
   ]
  },
  {
   "cell_type": "markdown",
   "id": "f4b48ff9",
   "metadata": {},
   "source": [
    "##### First thing is to read the video"
   ]
  },
  {
   "cell_type": "code",
   "execution_count": 2,
   "id": "583436fc",
   "metadata": {},
   "outputs": [],
   "source": [
    "video = cv2.VideoCapture(0)"
   ]
  },
  {
   "cell_type": "code",
   "execution_count": 3,
   "id": "979dcdd9",
   "metadata": {},
   "outputs": [],
   "source": [
    "check, frame = video.read()"
   ]
  },
  {
   "cell_type": "code",
   "execution_count": 4,
   "id": "84fedc81",
   "metadata": {},
   "outputs": [
    {
     "name": "stdout",
     "output_type": "stream",
     "text": [
      "True\n",
      "[[[136 186 181]\n",
      "  [135 184 180]\n",
      "  [155 197 186]\n",
      "  ...\n",
      "  [142 188 184]\n",
      "  [148 182 179]\n",
      "  [147 181 178]]\n",
      "\n",
      " [[148 191 185]\n",
      "  [145 188 182]\n",
      "  [146 187 179]\n",
      "  ...\n",
      "  [141 187 181]\n",
      "  [147 187 184]\n",
      "  [148 188 185]]\n",
      "\n",
      " [[142 188 182]\n",
      "  [138 183 177]\n",
      "  [134 178 168]\n",
      "  ...\n",
      "  [139 182 176]\n",
      "  [138 179 182]\n",
      "  [142 183 187]]\n",
      "\n",
      " ...\n",
      "\n",
      " [[107 156 165]\n",
      "  [107 156 165]\n",
      "  [105 156 165]\n",
      "  ...\n",
      "  [ 26  37  36]\n",
      "  [ 33  39  48]\n",
      "  [ 40  46  55]]\n",
      "\n",
      " [[111 163 167]\n",
      "  [107 159 164]\n",
      "  [109 158 156]\n",
      "  ...\n",
      "  [ 17  32  33]\n",
      "  [ 25  32  45]\n",
      "  [ 31  38  51]]\n",
      "\n",
      " [[124 167 170]\n",
      "  [118 162 164]\n",
      "  [113 159 153]\n",
      "  ...\n",
      "  [ 23  32  36]\n",
      "  [ 27  35  48]\n",
      "  [ 32  39  52]]]\n"
     ]
    }
   ],
   "source": [
    "print(check)\n",
    "print(frame)"
   ]
  },
  {
   "cell_type": "code",
   "execution_count": 5,
   "id": "bb37a5b8",
   "metadata": {},
   "outputs": [],
   "source": [
    "time.sleep(3)"
   ]
  },
  {
   "cell_type": "code",
   "execution_count": 6,
   "id": "3db62650",
   "metadata": {},
   "outputs": [],
   "source": [
    "cv2.imshow(\"Capturing video\",frame)"
   ]
  },
  {
   "cell_type": "code",
   "execution_count": 7,
   "id": "379b35f8",
   "metadata": {},
   "outputs": [
    {
     "data": {
      "text/plain": [
       "-1"
      ]
     },
     "execution_count": 7,
     "metadata": {},
     "output_type": "execute_result"
    }
   ],
   "source": [
    "cv2.waitKey(0)"
   ]
  },
  {
   "cell_type": "code",
   "execution_count": 8,
   "id": "7eb21bb7",
   "metadata": {},
   "outputs": [],
   "source": [
    "video.release()"
   ]
  },
  {
   "cell_type": "code",
   "execution_count": 9,
   "id": "73536f8d",
   "metadata": {},
   "outputs": [],
   "source": [
    "cv2.destroyAllWindows()"
   ]
  },
  {
   "cell_type": "code",
   "execution_count": null,
   "id": "5d4ccbb7",
   "metadata": {},
   "outputs": [],
   "source": []
  },
  {
   "cell_type": "code",
   "execution_count": null,
   "id": "6da763e3",
   "metadata": {},
   "outputs": [],
   "source": []
  },
  {
   "cell_type": "code",
   "execution_count": null,
   "id": "677fcfce",
   "metadata": {},
   "outputs": [],
   "source": []
  },
  {
   "cell_type": "code",
   "execution_count": null,
   "id": "262492fc",
   "metadata": {},
   "outputs": [],
   "source": []
  },
  {
   "cell_type": "code",
   "execution_count": null,
   "id": "e84134b4",
   "metadata": {},
   "outputs": [],
   "source": []
  },
  {
   "cell_type": "code",
   "execution_count": null,
   "id": "c9f6752e",
   "metadata": {},
   "outputs": [],
   "source": []
  }
 ],
 "metadata": {
  "kernelspec": {
   "display_name": "Python 3",
   "language": "python",
   "name": "python3"
  },
  "language_info": {
   "codemirror_mode": {
    "name": "ipython",
    "version": 3
   },
   "file_extension": ".py",
   "mimetype": "text/x-python",
   "name": "python",
   "nbconvert_exporter": "python",
   "pygments_lexer": "ipython3",
   "version": "3.8.8"
  }
 },
 "nbformat": 4,
 "nbformat_minor": 5
}
