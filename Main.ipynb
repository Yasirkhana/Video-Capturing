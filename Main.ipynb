{
 "cells": [
  {
   "cell_type": "markdown",
   "id": "15b959ae",
   "metadata": {},
   "source": [
    "# VIDEO CAPTURING PROJECT"
   ]
  },
  {
   "cell_type": "code",
   "execution_count": 1,
   "id": "f2063fe9",
   "metadata": {},
   "outputs": [],
   "source": [
    "import cv2,time"
   ]
  },
  {
   "cell_type": "markdown",
   "id": "b9f08792",
   "metadata": {},
   "source": [
    "##### First thing is to read the video"
   ]
  },
  {
   "cell_type": "code",
   "execution_count": 2,
   "id": "adfb7b8d",
   "metadata": {},
   "outputs": [],
   "source": [
    "video = cv2.VideoCapture(0)"
   ]
  },
  {
   "cell_type": "code",
   "execution_count": 3,
   "id": "4825fe3a",
   "metadata": {},
   "outputs": [],
   "source": [
    "check, frame = video.read()"
   ]
  },
  {
   "cell_type": "code",
   "execution_count": 4,
   "id": "ab2c782b",
   "metadata": {},
   "outputs": [
    {
     "name": "stdout",
     "output_type": "stream",
     "text": [
      "True\n",
      "[[[134 155 147]\n",
      "  [132 153 144]\n",
      "  [130 153 144]\n",
      "  ...\n",
      "  [102 144 136]\n",
      "  [112 143 131]\n",
      "  [112 143 131]]\n",
      "\n",
      " [[122 153 143]\n",
      "  [123 154 144]\n",
      "  [130 159 147]\n",
      "  ...\n",
      "  [101 143 133]\n",
      "  [107 144 134]\n",
      "  [107 144 134]]\n",
      "\n",
      " [[111 152 144]\n",
      "  [109 151 143]\n",
      "  [120 160 147]\n",
      "  ...\n",
      "  [ 94 143 132]\n",
      "  [ 95 147 133]\n",
      "  [100 152 138]]\n",
      "\n",
      " ...\n",
      "\n",
      " [[ 85 131 115]\n",
      "  [ 90 135 120]\n",
      "  [ 92 137 126]\n",
      "  ...\n",
      "  [ 19  39  37]\n",
      "  [ 18  43  39]\n",
      "  [ 16  41  36]]\n",
      "\n",
      " [[ 88 134 109]\n",
      "  [ 92 137 113]\n",
      "  [ 93 136 123]\n",
      "  ...\n",
      "  [ 20  39  40]\n",
      "  [ 15  45  40]\n",
      "  [ 16  46  41]]\n",
      "\n",
      " [[ 94 134 110]\n",
      "  [ 95 136 112]\n",
      "  [ 99 136 121]\n",
      "  ...\n",
      "  [ 17  41  39]\n",
      "  [ 18  46  41]\n",
      "  [ 20  47  42]]]\n"
     ]
    }
   ],
   "source": [
    "print(check)\n",
    "print(frame)"
   ]
  },
  {
   "cell_type": "code",
   "execution_count": 5,
   "id": "9028a710",
   "metadata": {},
   "outputs": [],
   "source": [
    "time.sleep(3)"
   ]
  },
  {
   "cell_type": "code",
   "execution_count": 6,
   "id": "a74f3d54",
   "metadata": {},
   "outputs": [],
   "source": [
    "cv2.imshow(\"Capturing video\",frame)"
   ]
  },
  {
   "cell_type": "code",
   "execution_count": 7,
   "id": "0d493d16",
   "metadata": {},
   "outputs": [
    {
     "data": {
      "text/plain": [
       "-1"
      ]
     },
     "execution_count": 7,
     "metadata": {},
     "output_type": "execute_result"
    }
   ],
   "source": [
    "cv2.waitKey(0)"
   ]
  },
  {
   "cell_type": "code",
   "execution_count": 8,
   "id": "bc9def77",
   "metadata": {},
   "outputs": [],
   "source": [
    "video.release()"
   ]
  },
  {
   "cell_type": "code",
   "execution_count": 9,
   "id": "b076e07b",
   "metadata": {},
   "outputs": [],
   "source": [
    "cv2.destroyAllWindows()"
   ]
  },
  {
   "cell_type": "code",
   "execution_count": null,
   "id": "6c6516f1",
   "metadata": {},
   "outputs": [],
   "source": []
  }
 ],
 "metadata": {
  "kernelspec": {
   "display_name": "Python 3",
   "language": "python",
   "name": "python3"
  },
  "language_info": {
   "codemirror_mode": {
    "name": "ipython",
    "version": 3
   },
   "file_extension": ".py",
   "mimetype": "text/x-python",
   "name": "python",
   "nbconvert_exporter": "python",
   "pygments_lexer": "ipython3",
   "version": "3.8.8"
  }
 },
 "nbformat": 4,
 "nbformat_minor": 5
}
