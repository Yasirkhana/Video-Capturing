{
 "cells": [
  {
   "cell_type": "markdown",
   "id": "a8772042",
   "metadata": {},
   "source": [
    "# VIDEO CAPTURING PROJECT"
   ]
  },
  {
   "cell_type": "code",
   "execution_count": 11,
   "id": "c6871d16",
   "metadata": {},
   "outputs": [],
   "source": [
    "import cv2,time"
   ]
  },
  {
   "cell_type": "markdown",
   "id": "2e46108d",
   "metadata": {},
   "source": [
    "##### First thing is to read the video"
   ]
  },
  {
   "cell_type": "code",
   "execution_count": 12,
   "id": "30ef7c91",
   "metadata": {},
   "outputs": [],
   "source": [
    "video = cv2.VideoCapture(0)"
   ]
  },
  {
   "cell_type": "code",
   "execution_count": 16,
   "id": "bfb760b1",
   "metadata": {},
   "outputs": [],
   "source": [
    "check, frame = video.read()"
   ]
  },
  {
   "cell_type": "code",
   "execution_count": 19,
   "id": "72c85056",
   "metadata": {},
   "outputs": [
    {
     "name": "stdout",
     "output_type": "stream",
     "text": [
      "False\n",
      "None\n"
     ]
    }
   ],
   "source": [
    "print(check)\n",
    "print(frame)"
   ]
  },
  {
   "cell_type": "code",
   "execution_count": 13,
   "id": "c0f2fb77",
   "metadata": {},
   "outputs": [],
   "source": [
    "time.sleep(3)"
   ]
  },
  {
   "cell_type": "code",
   "execution_count": 14,
   "id": "59a8b487",
   "metadata": {},
   "outputs": [],
   "source": [
    "video.release()"
   ]
  },
  {
   "cell_type": "code",
   "execution_count": null,
   "id": "7bc0d09e",
   "metadata": {},
   "outputs": [],
   "source": []
  }
 ],
 "metadata": {
  "kernelspec": {
   "display_name": "Python 3",
   "language": "python",
   "name": "python3"
  },
  "language_info": {
   "codemirror_mode": {
    "name": "ipython",
    "version": 3
   },
   "file_extension": ".py",
   "mimetype": "text/x-python",
   "name": "python",
   "nbconvert_exporter": "python",
   "pygments_lexer": "ipython3",
   "version": "3.8.8"
  }
 },
 "nbformat": 4,
 "nbformat_minor": 5
}
