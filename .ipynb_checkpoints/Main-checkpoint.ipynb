{
 "cells": [
  {
   "cell_type": "markdown",
   "id": "8dfe3fd4",
   "metadata": {},
   "source": [
    "# VIDEO CAPTURING PROJECT"
   ]
  },
  {
   "cell_type": "code",
   "execution_count": 1,
   "id": "5bafe452",
   "metadata": {},
   "outputs": [],
   "source": [
    "import cv2,time"
   ]
  },
  {
   "cell_type": "markdown",
   "id": "72203497",
   "metadata": {},
   "source": [
    "##### First thing is to read the video"
   ]
  },
  {
   "cell_type": "code",
   "execution_count": 2,
   "id": "35e74bfc",
   "metadata": {},
   "outputs": [],
   "source": [
    "video = cv2.VideoCapture(0)"
   ]
  },
  {
   "cell_type": "code",
   "execution_count": 3,
   "id": "cd9f31eb",
   "metadata": {},
   "outputs": [],
   "source": [
    "check, frame = video.read()"
   ]
  },
  {
   "cell_type": "code",
   "execution_count": 4,
   "id": "3f44223b",
   "metadata": {},
   "outputs": [
    {
     "name": "stdout",
     "output_type": "stream",
     "text": [
      "True\n",
      "[[[ 69 129 108]\n",
      "  [ 64 125 104]\n",
      "  [ 74 126 114]\n",
      "  ...\n",
      "  [126 170 150]\n",
      "  [138 170 161]\n",
      "  [131 163 154]]\n",
      "\n",
      " [[ 84 137 116]\n",
      "  [ 80 133 113]\n",
      "  [ 84 126 115]\n",
      "  ...\n",
      "  [130 167 146]\n",
      "  [139 167 149]\n",
      "  [136 164 145]]\n",
      "\n",
      " [[ 93 134 119]\n",
      "  [ 88 129 114]\n",
      "  [ 89 124 114]\n",
      "  ...\n",
      "  [138 162 151]\n",
      "  [142 162 149]\n",
      "  [143 163 150]]\n",
      "\n",
      " ...\n",
      "\n",
      " [[ 34  31  45]\n",
      "  [ 43  41  55]\n",
      "  [ 29  33  40]\n",
      "  ...\n",
      "  [ 28  55  48]\n",
      "  [ 31  62  57]\n",
      "  [ 20  52  47]]\n",
      "\n",
      " [[ 38  36  50]\n",
      "  [ 38  36  50]\n",
      "  [ 37  36  43]\n",
      "  ...\n",
      "  [ 33  54  47]\n",
      "  [ 26  57  54]\n",
      "  [ 26  57  54]]\n",
      "\n",
      " [[ 38  37  48]\n",
      "  [ 36  34  46]\n",
      "  [ 38  41  45]\n",
      "  ...\n",
      "  [ 24  51  47]\n",
      "  [ 27  54  49]\n",
      "  [ 32  60  55]]]\n"
     ]
    }
   ],
   "source": [
    "print(check)\n",
    "print(frame)"
   ]
  },
  {
   "cell_type": "code",
   "execution_count": 5,
   "id": "b604b1cd",
   "metadata": {},
   "outputs": [],
   "source": [
    "time.sleep(3)"
   ]
  },
  {
   "cell_type": "code",
   "execution_count": 6,
   "id": "a5676056",
   "metadata": {},
   "outputs": [],
   "source": [
    "cv2.imshow(\"Capturing video\",frame)"
   ]
  },
  {
   "cell_type": "code",
   "execution_count": 7,
   "id": "22145369",
   "metadata": {},
   "outputs": [
    {
     "data": {
      "text/plain": [
       "-1"
      ]
     },
     "execution_count": 7,
     "metadata": {},
     "output_type": "execute_result"
    }
   ],
   "source": [
    "cv2.waitKey(0)"
   ]
  },
  {
   "cell_type": "code",
   "execution_count": 8,
   "id": "2ee4ac84",
   "metadata": {},
   "outputs": [],
   "source": [
    "video.release()"
   ]
  },
  {
   "cell_type": "code",
   "execution_count": 9,
   "id": "7f96450a",
   "metadata": {},
   "outputs": [],
   "source": [
    "cv2.destroyAllWindows()"
   ]
  },
  {
   "cell_type": "code",
   "execution_count": 10,
   "id": "11e9136c",
   "metadata": {},
   "outputs": [
    {
     "data": {
      "text/plain": [
       "True"
      ]
     },
     "execution_count": 10,
     "metadata": {},
     "output_type": "execute_result"
    }
   ],
   "source": [
    "cv2.imwrite(\"Capture_Frame.jpg\",frame)"
   ]
  },
  {
   "cell_type": "code",
   "execution_count": null,
   "id": "04dff92a",
   "metadata": {},
   "outputs": [],
   "source": [
    "[ -> PUT CAPTUREFRAME HERE <--]"
   ]
  },
  {
   "cell_type": "markdown",
   "id": "5ee2990b",
   "metadata": {},
   "source": [
    "#### At this stage it only show the first frame of the video but in order to capture full video we will use While loop"
   ]
  },
  {
   "cell_type": "code",
   "execution_count": null,
   "id": "f133d265",
   "metadata": {},
   "outputs": [],
   "source": []
  },
  {
   "cell_type": "code",
   "execution_count": null,
   "id": "8b92aeb8",
   "metadata": {},
   "outputs": [],
   "source": []
  },
  {
   "cell_type": "code",
   "execution_count": null,
   "id": "0d43d910",
   "metadata": {},
   "outputs": [],
   "source": []
  },
  {
   "cell_type": "code",
   "execution_count": null,
   "id": "d4797fdb",
   "metadata": {},
   "outputs": [],
   "source": []
  },
  {
   "cell_type": "code",
   "execution_count": null,
   "id": "fe6db00d",
   "metadata": {},
   "outputs": [],
   "source": []
  }
 ],
 "metadata": {
  "kernelspec": {
   "display_name": "Python 3",
   "language": "python",
   "name": "python3"
  },
  "language_info": {
   "codemirror_mode": {
    "name": "ipython",
    "version": 3
   },
   "file_extension": ".py",
   "mimetype": "text/x-python",
   "name": "python",
   "nbconvert_exporter": "python",
   "pygments_lexer": "ipython3",
   "version": "3.8.8"
  }
 },
 "nbformat": 4,
 "nbformat_minor": 5
}
