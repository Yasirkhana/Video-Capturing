{
 "cells": [
  {
   "cell_type": "markdown",
   "id": "6dcd0dfe",
   "metadata": {},
   "source": [
    "# VIDEO CAPTURING PROJECT"
   ]
  },
  {
   "cell_type": "code",
   "execution_count": 16,
   "id": "e762ba3f",
   "metadata": {},
   "outputs": [],
   "source": [
    "import cv2,time"
   ]
  },
  {
   "cell_type": "markdown",
   "id": "ace342b0",
   "metadata": {},
   "source": [
    "##### First thing is to read the video"
   ]
  },
  {
   "cell_type": "code",
   "execution_count": 17,
   "id": "66b1de4a",
   "metadata": {},
   "outputs": [],
   "source": [
    "video = cv2.VideoCapture(0)"
   ]
  },
  {
   "cell_type": "code",
   "execution_count": 3,
   "id": "6a1bf37a",
   "metadata": {},
   "outputs": [],
   "source": [
    "check, frame = video.read()"
   ]
  },
  {
   "cell_type": "code",
   "execution_count": 4,
   "id": "a3740f97",
   "metadata": {},
   "outputs": [
    {
     "name": "stdout",
     "output_type": "stream",
     "text": [
      "True\n",
      "[[[115 157 158]\n",
      "  [120 162 163]\n",
      "  [119 162 158]\n",
      "  ...\n",
      "  [144 177 158]\n",
      "  [134 179 156]\n",
      "  [140 184 162]]\n",
      "\n",
      " [[113 159 153]\n",
      "  [115 160 154]\n",
      "  [119 165 157]\n",
      "  ...\n",
      "  [151 176 160]\n",
      "  [148 178 159]\n",
      "  [151 181 163]]\n",
      "\n",
      " [[112 159 148]\n",
      "  [113 160 149]\n",
      "  [112 166 152]\n",
      "  ...\n",
      "  [152 178 159]\n",
      "  [155 178 161]\n",
      "  [158 181 163]]\n",
      "\n",
      " ...\n",
      "\n",
      " [[ 84 141 145]\n",
      "  [ 76 133 137]\n",
      "  [ 87 134 132]\n",
      "  ...\n",
      "  [ 30  81  81]\n",
      "  [ 37  81  81]\n",
      "  [ 35  79  80]]\n",
      "\n",
      " [[ 95 134 128]\n",
      "  [ 94 133 127]\n",
      "  [ 97 133 130]\n",
      "  ...\n",
      "  [ 30  77  73]\n",
      "  [ 34  76  75]\n",
      "  [ 32  74  72]]\n",
      "\n",
      " [[104 133 128]\n",
      "  [100 130 125]\n",
      "  [ 97 131 126]\n",
      "  ...\n",
      "  [ 21  70  66]\n",
      "  [ 39  84  80]\n",
      "  [ 32  77  73]]]\n"
     ]
    }
   ],
   "source": [
    "print(check)\n",
    "print(frame)"
   ]
  },
  {
   "cell_type": "code",
   "execution_count": 5,
   "id": "ff4a1591",
   "metadata": {},
   "outputs": [],
   "source": [
    "time.sleep(3)"
   ]
  },
  {
   "cell_type": "code",
   "execution_count": 6,
   "id": "5d46817c",
   "metadata": {},
   "outputs": [],
   "source": [
    "cv2.imshow(\"Capturing Frame\",frame)"
   ]
  },
  {
   "cell_type": "code",
   "execution_count": 7,
   "id": "86cc443c",
   "metadata": {},
   "outputs": [
    {
     "data": {
      "text/plain": [
       "-1"
      ]
     },
     "execution_count": 7,
     "metadata": {},
     "output_type": "execute_result"
    }
   ],
   "source": [
    "cv2.waitKey(0)"
   ]
  },
  {
   "cell_type": "code",
   "execution_count": 8,
   "id": "0c7f69ab",
   "metadata": {},
   "outputs": [],
   "source": [
    "video.release()"
   ]
  },
  {
   "cell_type": "code",
   "execution_count": 9,
   "id": "07a9779d",
   "metadata": {},
   "outputs": [],
   "source": [
    "cv2.destroyAllWindows()"
   ]
  },
  {
   "cell_type": "code",
   "execution_count": 10,
   "id": "ce60976d",
   "metadata": {},
   "outputs": [],
   "source": [
    "#cv2.imwrite(\"Capture_Frame.jpg\",frame)"
   ]
  },
  {
   "cell_type": "code",
   "execution_count": 11,
   "id": "ea0eec62",
   "metadata": {},
   "outputs": [
    {
     "ename": "SyntaxError",
     "evalue": "invalid syntax (<ipython-input-11-e3773c871bd4>, line 1)",
     "output_type": "error",
     "traceback": [
      "\u001b[1;36m  File \u001b[1;32m\"<ipython-input-11-e3773c871bd4>\"\u001b[1;36m, line \u001b[1;32m1\u001b[0m\n\u001b[1;33m    [ -> PUT CAPTUREFRAME HERE <--]\u001b[0m\n\u001b[1;37m      ^\u001b[0m\n\u001b[1;31mSyntaxError\u001b[0m\u001b[1;31m:\u001b[0m invalid syntax\n"
     ]
    }
   ],
   "source": [
    "[ -> PUT CAPTUREFRAME HERE <--]"
   ]
  },
  {
   "cell_type": "markdown",
   "id": "d6b0b7da",
   "metadata": {},
   "source": [
    "#### At this stage it only show the first frame of the video but in order to capture full video we will use While loop"
   ]
  },
  {
   "cell_type": "code",
   "execution_count": 25,
   "id": "1c69a3b9",
   "metadata": {},
   "outputs": [
    {
     "name": "stdout",
     "output_type": "stream",
     "text": [
      "69 Ilteration recordered :)\n"
     ]
    }
   ],
   "source": [
    "video = cv2.VideoCapture(0)\n",
    "a=1\n",
    "while True:\n",
    "    a+=1\n",
    "    check, frame = video.read()\n",
    "   # time.sleep(3)\n",
    "    cv2.imshow(\"Capturing video\",frame)\n",
    "    key = cv2.waitKey(1)\n",
    "    \n",
    "    if key==ord('q'):  # Press Q to stop the video capturing.\n",
    "        break\n",
    "    \n",
    "video.release()\n",
    "cv2.destroyAllWindows()\n",
    "\n",
    "print(f\"{a} Ilteration recordered :)\") \n"
   ]
  },
  {
   "cell_type": "markdown",
   "id": "95afdca7",
   "metadata": {},
   "source": [
    "# GREAT !!!"
   ]
  },
  {
   "cell_type": "markdown",
   "id": "76bbb4ca",
   "metadata": {},
   "source": [
    "# END"
   ]
  },
  {
   "cell_type": "markdown",
   "id": "07bbb79c",
   "metadata": {},
   "source": [
    "# PROJECT BY @YASIRKHANA"
   ]
  },
  {
   "cell_type": "code",
   "execution_count": null,
   "id": "6c57a867",
   "metadata": {},
   "outputs": [],
   "source": []
  },
  {
   "cell_type": "code",
   "execution_count": null,
   "id": "43e962de",
   "metadata": {},
   "outputs": [],
   "source": []
  }
 ],
 "metadata": {
  "kernelspec": {
   "display_name": "Python 3",
   "language": "python",
   "name": "python3"
  },
  "language_info": {
   "codemirror_mode": {
    "name": "ipython",
    "version": 3
   },
   "file_extension": ".py",
   "mimetype": "text/x-python",
   "name": "python",
   "nbconvert_exporter": "python",
   "pygments_lexer": "ipython3",
   "version": "3.8.8"
  }
 },
 "nbformat": 4,
 "nbformat_minor": 5
}
